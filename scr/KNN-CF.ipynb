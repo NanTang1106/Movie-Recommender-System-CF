{
 "cells": [
  {
   "cell_type": "code",
   "execution_count": 1,
   "metadata": {},
   "outputs": [],
   "source": [
    "import pandas as pd\n",
    "import numpy as np\n",
    "import pyspark as ps\n",
    "from scipy.sparse import csr_matrix\n",
    "from sklearn.neighbors import NearestNeighbors"
   ]
  },
  {
   "cell_type": "code",
   "execution_count": 2,
   "metadata": {},
   "outputs": [],
   "source": [
    "rating_dt = pd.read_csv('D:/Columbia/fall 2020/IEOR 4571/HW2/ml-latest/ratings.csv')"
   ]
  },
  {
   "cell_type": "code",
   "execution_count": 3,
   "metadata": {},
   "outputs": [],
   "source": [
    "tag_dt = pd.read_csv('D:/Columbia/fall 2020/IEOR 4571/HW2/ml-latest/tags.csv')"
   ]
  },
  {
   "cell_type": "code",
   "execution_count": 4,
   "metadata": {},
   "outputs": [],
   "source": [
    "movie_dt = pd.read_csv('D:/Columbia/fall 2020/IEOR 4571/HW2/ml-latest/movies.csv')"
   ]
  },
  {
   "cell_type": "code",
   "execution_count": 5,
   "metadata": {},
   "outputs": [
    {
     "name": "stdout",
     "output_type": "stream",
     "text": [
      "   userId  movieId           tag   timestamp\n",
      "0      14      110          epic  1443148538\n",
      "1      14      110      Medieval  1443148532\n",
      "2      14      260        sci-fi  1442169410\n",
      "3      14      260  space action  1442169421\n",
      "4      14      318  imdb top 250  1442615195\n",
      "   userId  movieId  rating   timestamp\n",
      "0       1      307     3.5  1256677221\n",
      "1       1      481     3.5  1256677456\n",
      "2       1     1091     1.5  1256677471\n",
      "3       1     1257     4.5  1256677460\n",
      "4       1     1449     4.5  1256677264\n",
      "   movieId                               title  \\\n",
      "0        1                    Toy Story (1995)   \n",
      "1        2                      Jumanji (1995)   \n",
      "2        3             Grumpier Old Men (1995)   \n",
      "3        4            Waiting to Exhale (1995)   \n",
      "4        5  Father of the Bride Part II (1995)   \n",
      "\n",
      "                                        genres  \n",
      "0  Adventure|Animation|Children|Comedy|Fantasy  \n",
      "1                   Adventure|Children|Fantasy  \n",
      "2                               Comedy|Romance  \n",
      "3                         Comedy|Drama|Romance  \n",
      "4                                       Comedy  \n"
     ]
    }
   ],
   "source": [
    "print(tag_dt.head(5))\n",
    "print(rating_dt.head(5))\n",
    "print(movie_dt.head(5))"
   ]
  },
  {
   "cell_type": "code",
   "execution_count": 6,
   "metadata": {},
   "outputs": [
    {
     "data": {
      "text/plain": [
       "(27753444, 4)"
      ]
     },
     "execution_count": 6,
     "metadata": {},
     "output_type": "execute_result"
    }
   ],
   "source": [
    "rating_dt.shape"
   ]
  },
  {
   "cell_type": "code",
   "execution_count": 7,
   "metadata": {},
   "outputs": [],
   "source": [
    "# filter out movies that has less than 100 rates\n",
    "movie_rating_count = rating_dt.groupby(['movieId']).size().reset_index(name='Mcount')\n",
    "movie_poll = movie_rating_count[movie_rating_count.Mcount > 100].movieId"
   ]
  },
  {
   "cell_type": "code",
   "execution_count": 8,
   "metadata": {},
   "outputs": [],
   "source": [
    "# sample 1000 items from movie poll \n",
    "movie_sample = movie_poll.sample(1000, replace=False, random_state=1).values.reshape(-1, 1)\n",
    "\n",
    "# get rating and users of sampled movies\n",
    "sample_movie_rating = rating_dt.loc[rating_dt['movieId'].isin(movie_sample)]"
   ]
  },
  {
   "cell_type": "code",
   "execution_count": 9,
   "metadata": {},
   "outputs": [],
   "source": [
    "user_poll = np.unique(sample_movie_rating['userId'])"
   ]
  },
  {
   "cell_type": "code",
   "execution_count": 10,
   "metadata": {},
   "outputs": [],
   "source": [
    "np.random.seed(1)\n",
    "user_test = np.random.choice(user_poll, 1000)"
   ]
  },
  {
   "cell_type": "code",
   "execution_count": 11,
   "metadata": {},
   "outputs": [],
   "source": [
    "test_user_rating = sample_movie_rating.loc[sample_movie_rating['userId'].isin(user_test)]"
   ]
  },
  {
   "cell_type": "code",
   "execution_count": 12,
   "metadata": {},
   "outputs": [],
   "source": [
    "#sample_matrix = test_user_rating.pivot(index = 'movieId',\n",
    "#                                       columns = 'userId', \n",
    "#                                       values='rating').fillna(0)\n",
    "#sample_matrix_cp = csr_matrix(sample_matrix)"
   ]
  },
  {
   "cell_type": "code",
   "execution_count": 13,
   "metadata": {},
   "outputs": [],
   "source": [
    "# pivot movie, user, rating dataframe into compressed matrix\n",
    "#\n",
    "def movie_use_matrix_pivot(df_):\n",
    "    mu_matrix = df_.pivot(index = 'movieId', \n",
    "                          columns = 'userId', \n",
    "                          values = 'rating').fillna(0)\n",
    "    # compress original matrix\n",
    "    mu_matrix_cp = csr_matrix(mu_matrix.values)\n",
    "    return mu_matrix, mu_matrix_cp"
   ]
  },
  {
   "cell_type": "code",
   "execution_count": 14,
   "metadata": {},
   "outputs": [],
   "source": [
    "# input: compressed movie-user matrix, distance method, number of nearest neighbors\n",
    "# default distance method is adjusted cosine, default neighbor is 5\n",
    "# output: a pre-trained KNN model\n",
    "#\n",
    "def knn_model_fit(mu_matrix_cp, dist_='cosine', n_neighbor_=5):\n",
    "    # use adjusted cosine distance to find k nearest item \n",
    "    # default k-neighbor is 5\n",
    "    knn = NearestNeighbors(metric=dist_, algorithm='brute', n_neighbors=n_neighbor_, n_jobs=-1)\n",
    "    knn.fit(mu_matrix_cp)\n",
    "    return knn"
   ]
  },
  {
   "cell_type": "code",
   "execution_count": 16,
   "metadata": {},
   "outputs": [],
   "source": [
    "# test function\n",
    "sample_matrix, sample_matrix_cp = movie_use_matrix_pivot(test_user_rating)\n",
    "sample_matrix_knn = knn_model_fit(sample_matrix_cp, 'cosine', 5)\n",
    "\n",
    "distance1, indices1 = sample_matrix_knn.kneighbors(sample_matrix.loc[sample_matrix.index == 34])\n",
    "#distance2, indices2 = single_recommendation(sample_matrix_knn, sample_matrix, 34)\n",
    "#assert(np.alltrue(indices1 == indices2))"
   ]
  },
  {
   "cell_type": "code",
   "execution_count": 17,
   "metadata": {},
   "outputs": [],
   "source": [
    "# input: rating dataset, userid, a rating threshold, movies that are rated below threshold\n",
    "# will not be counted \n",
    "# output: a list of high-scored movies that are rated by givern user, a list of corresponding ratings\n",
    "#\n",
    "def get_rated_movies(data, userid, threshold=2):\n",
    "    all_rates = data[data['userId'] == userid]\n",
    "    high_rates = all_rates[all_rates['rating'] >= threshold]['rating'].values\n",
    "    high_rate_movie = all_rates[all_rates['rating'] >= threshold]['movieId'].values\n",
    "    return high_rate_movie, high_rates"
   ]
  },
  {
   "cell_type": "code",
   "execution_count": 157,
   "metadata": {},
   "outputs": [],
   "source": [
    "# make recommendations\n",
    "def opt_recommend(mu_matrix,dist,ind,data):\n",
    "    movielist = mu_matrix.index.tolist()\n",
    "    userIds = data.userId.unique()\n",
    "    recommendation = []\n",
    "\n",
    "    for Id in userIds:\n",
    "        m, r = get_rated_movies(data, Id, 2)\n",
    "        if len(m) > 1:\n",
    "\n",
    "            distance_list = []\n",
    "            recommend_list = []\n",
    "\n",
    "            for movieId in m:\n",
    "                distances=dist[movielist.index(movieId)]\n",
    "                indices=ind[movielist.index(movieId)]\n",
    "\n",
    "                distances = distances/ r[np.where(m == movieId)].tolist()\n",
    "                movie_list = matrix_5.index[indices.reshape(-1)].tolist()\n",
    "\n",
    "                if movieId == movie_list[0]:\n",
    "                    distances = distances[1:]\n",
    "                    movie_list = movie_list[1:]\n",
    "\n",
    "                distance_list.extend(distances)\n",
    "                recommend_list.extend(movie_list)\n",
    "\n",
    "            recommend_list = np.array(recommend_list)\n",
    "\n",
    "            if recommend_list.shape[0] <= 20:\n",
    "                recommendation.extend(recommend_list)\n",
    "            else:\n",
    "                sorted_recommend = recommend_list[np.array(distance_list).argsort()]\n",
    "                recommendation.extend(sorted_recommend[:20])\n",
    "        \n",
    "    return recommendation\n"
   ]
  },
  {
   "cell_type": "code",
   "execution_count": 195,
   "metadata": {},
   "outputs": [],
   "source": [
    "# calculate HitRate\n",
    "def opt_HitRate(mu_matrix, dist, ind,data):\n",
    "    movielist = mu_matrix.index.tolist()\n",
    "    userIds = data.userId.unique()\n",
    "    hits = 0\n",
    "    total = 0\n",
    "\n",
    "    for Id in userIds:\n",
    "        m, r = get_rated_movies(data, Id, 2)\n",
    "\n",
    "        if len(m) > 1:\n",
    "            token = np.random.randint(len(m))\n",
    "            l = m[token]\n",
    "            new_movies = np.delete(m, [token])\n",
    "            new_ratings = np.delete(r, [token])\n",
    "\n",
    "            distance_list = []\n",
    "            recommend_list = []\n",
    "\n",
    "            for movieId in new_movies:\n",
    "                distances=dist[movielist.index(movieId)]\n",
    "                indices=ind[movielist.index(movieId)]\n",
    "\n",
    "                distances = distances/ new_ratings[np.where(new_movies == movieId)].tolist()\n",
    "                movie_list = matrix_5.index[indices.reshape(-1)].tolist()\n",
    "\n",
    "                if movieId == movie_list[0]:\n",
    "                    distances = distances[1:]\n",
    "                    movie_list = movie_list[1:]\n",
    "\n",
    "                distance_list.extend(distances)\n",
    "                recommend_list.extend(movie_list)\n",
    "\n",
    "            recommend_list = np.array(recommend_list)\n",
    "\n",
    "            if recommend_list.shape[0] <= 20:\n",
    "                if l in recommend_list:\n",
    "                    hits += 1\n",
    "            else:\n",
    "                sorted_recommend = recommend_list[np.array(distance_list).argsort()]\n",
    "                if l in sorted_recommend[:20]:\n",
    "                    hits += 1\n",
    "            total += 1\n",
    "\n",
    "    return hits/total"
   ]
  },
  {
   "cell_type": "markdown",
   "metadata": {},
   "source": [
    "## Test on different Neighborhood Sizes"
   ]
  },
  {
   "cell_type": "code",
   "execution_count": 173,
   "metadata": {},
   "outputs": [],
   "source": [
    "# n_neighbor = 2\n",
    "knn_2neighbors = knn_model_fit(sample_matrix_cp, 'cosine',2)\n",
    "dist_2neighbors, ind_2neighbors = knn_2neighbors.kneighbors(sample_matrix)\n",
    "hit_rate_2neighbors = opt_HitRate(sample_matrix,dist_2neighbors, ind_2neighbors, test_user_rating)"
   ]
  },
  {
   "cell_type": "code",
   "execution_count": 175,
   "metadata": {},
   "outputs": [
    {
     "name": "stdout",
     "output_type": "stream",
     "text": [
      "0.031806615776081425\n"
     ]
    }
   ],
   "source": [
    "print(hit_rate_2neighbors)"
   ]
  },
  {
   "cell_type": "code",
   "execution_count": 176,
   "metadata": {},
   "outputs": [],
   "source": [
    "# n_neighbor = 3\n",
    "knn_3neighbors = knn_model_fit(sample_matrix_cp, 'cosine',3)\n",
    "dist_3neighbors, ind_3neighbors = knn_3neighbors.kneighbors(sample_matrix)\n",
    "hit_rate_3neighbors = opt_HitRate(sample_matrix,dist_3neighbors, ind_3neighbors, test_user_rating)"
   ]
  },
  {
   "cell_type": "code",
   "execution_count": 192,
   "metadata": {},
   "outputs": [
    {
     "name": "stdout",
     "output_type": "stream",
     "text": [
      "0.04834605597964377\n"
     ]
    }
   ],
   "source": [
    "print(hit_rate_3neighbors)"
   ]
  },
  {
   "cell_type": "code",
   "execution_count": 221,
   "metadata": {},
   "outputs": [],
   "source": [
    "# n_neighbor = 4\n",
    "knn_4neighbors = knn_model_fit(sample_matrix_cp, 'cosine',4)\n",
    "dist_4neighbors, ind_4neighbors = knn_4neighbors.kneighbors(sample_matrix)\n",
    "hit_rate_4neighbors = opt_HitRate(sample_matrix,dist_4neighbors, ind_4neighbors, test_user_rating)"
   ]
  },
  {
   "cell_type": "code",
   "execution_count": 222,
   "metadata": {},
   "outputs": [
    {
     "name": "stdout",
     "output_type": "stream",
     "text": [
      "0.061068702290076333\n"
     ]
    }
   ],
   "source": [
    "print(hit_rate_4neighbors)"
   ]
  },
  {
   "cell_type": "code",
   "execution_count": 182,
   "metadata": {},
   "outputs": [],
   "source": [
    "# n_neighbor = 5\n",
    "knn_5neighbors = knn_model_fit(sample_matrix_cp, 'cosine',5)\n",
    "dist_5neighbors, ind_5neighbors = knn_5neighbors.kneighbors(sample_matrix)\n",
    "hit_rate_5neighbors = opt_HitRate(sample_matrix,dist_5neighbors, ind_5neighbors, test_user_rating)"
   ]
  },
  {
   "cell_type": "code",
   "execution_count": 184,
   "metadata": {},
   "outputs": [
    {
     "name": "stdout",
     "output_type": "stream",
     "text": [
      "0.06361323155216285\n"
     ]
    }
   ],
   "source": [
    "print(hit_rate_5neighbors)"
   ]
  },
  {
   "cell_type": "code",
   "execution_count": 185,
   "metadata": {},
   "outputs": [],
   "source": [
    "import seaborn as sns\n",
    "import matplotlib.pyplot as plt\n",
    "sns.set_style(\"whitegrid\")"
   ]
  },
  {
   "cell_type": "code",
   "execution_count": 223,
   "metadata": {},
   "outputs": [],
   "source": [
    "hit_rate = [hit_rate_2neighbors,hit_rate_3neighbors,hit_rate_4neighbors,hit_rate_5neighbors]\n",
    "x = [2,3,4,5]"
   ]
  },
  {
   "cell_type": "code",
   "execution_count": 224,
   "metadata": {},
   "outputs": [
    {
     "data": {
      "image/png": "[encoded data removed]",
      "text/plain": [
       "<Figure size 720x432 with 1 Axes>"
      ]
     },
     "metadata": {},
     "output_type": "display_data"
    }
   ],
   "source": [
    "plt.figure(figsize=(10,6))\n",
    "d = {\"Neighborhood Size\":x,\"Hit Rate\":hit_rate}\n",
    "df = pd.DataFrame(d)\n",
    "\n",
    "sns.lineplot(data = df,x = 'Neighborhood Size',y = 'Hit Rate').set_title('Neighborhood Size vs Hit Rate')\n",
    "\n",
    "plt.show()"
   ]
  },
  {
   "cell_type": "markdown",
   "metadata": {},
   "source": [
    "## Test on different sizes of data"
   ]
  },
  {
   "cell_type": "code",
   "execution_count": 26,
   "metadata": {},
   "outputs": [],
   "source": [
    "movie_ratings_25 = sample_movie_rating.sample(frac = .25, random_state = 1)\n",
    "movie_ratings_50 = sample_movie_rating.sample(frac = .50, random_state = 2)\n",
    "movie_ratings_75 = sample_movie_rating.sample(frac = .75, random_state = 3)"
   ]
  },
  {
   "cell_type": "code",
   "execution_count": 108,
   "metadata": {},
   "outputs": [],
   "source": [
    "# test 25%\n",
    "matrix_25, matrix_cp_25 = movie_use_matrix_pivot(movie_ratings_25)\n",
    "knn_25 = knn_model_fit(matrix_cp_25, 'cosine', 5)\n",
    "dist_25, ind_25 = knn_25.kneighbors(matrix_25)\n",
    "hit_rate_25 = opt_HitRate(matrix_25,dist_25, ind_25, movie_ratings_25)"
   ]
  },
  {
   "cell_type": "code",
   "execution_count": 110,
   "metadata": {},
   "outputs": [
    {
     "name": "stdout",
     "output_type": "stream",
     "text": [
      "0.21218801257874775\n"
     ]
    }
   ],
   "source": [
    "print(hit_rate_25)"
   ]
  },
  {
   "cell_type": "code",
   "execution_count": 111,
   "metadata": {},
   "outputs": [],
   "source": [
    "# test 50%\n",
    "matrix_50, matrix_cp_50 = movie_use_matrix_pivot(movie_ratings_50)\n",
    "knn_50 = knn_model_fit(matrix_cp_50, 'cosine', 5)\n",
    "dist_50, ind_50 = knn_50.kneighbors(matrix_50)\n",
    "hit_rate_50 = opt_HitRate(matrix_50,dist_50, ind_50, movie_ratings_50)"
   ]
  },
  {
   "cell_type": "code",
   "execution_count": 113,
   "metadata": {},
   "outputs": [
    {
     "name": "stdout",
     "output_type": "stream",
     "text": [
      "0.27341213050205954\n"
     ]
    }
   ],
   "source": [
    "print(hit_rate_50)"
   ]
  },
  {
   "cell_type": "code",
   "execution_count": 114,
   "metadata": {},
   "outputs": [],
   "source": [
    "# test 75%\n",
    "matrix_75, matrix_cp_75 = movie_use_matrix_pivot(movie_ratings_75)\n",
    "knn_75 = knn_model_fit(matrix_cp_75, 'cosine', 5)\n",
    "dist_75, ind_75 = knn_75.kneighbors(matrix_75)\n",
    "hit_rate_75 = opt_HitRate(matrix_75,dist_75, ind_75, movie_ratings_75)"
   ]
  },
  {
   "cell_type": "code",
   "execution_count": 116,
   "metadata": {},
   "outputs": [
    {
     "name": "stdout",
     "output_type": "stream",
     "text": [
      "0.30219783562160485\n"
     ]
    }
   ],
   "source": [
    "print(hit_rate_75)"
   ]
  },
  {
   "cell_type": "code",
   "execution_count": 119,
   "metadata": {},
   "outputs": [],
   "source": [
    "# test 100%\n",
    "matrix_100, matrix_cp_100 = movie_use_matrix_pivot(sample_movie_rating)\n",
    "knn_100 = knn_model_fit(matrix_cp_100, 'cosine', 5)\n",
    "dist_100, ind_100 = knn_100.kneighbors(matrix_100)\n",
    "hit_rate_100 = opt_HitRate(matrix_100,dist_100, ind_100, sample_movie_rating)"
   ]
  },
  {
   "cell_type": "code",
   "execution_count": 122,
   "metadata": {},
   "outputs": [
    {
     "name": "stdout",
     "output_type": "stream",
     "text": [
      "0.3205409993036212\n"
     ]
    }
   ],
   "source": [
    "print(hit_rate_100)"
   ]
  },
  {
   "cell_type": "code",
   "execution_count": 190,
   "metadata": {},
   "outputs": [],
   "source": [
    "hit_rate = [hit_rate_25,hit_rate_50,hit_rate_75,hit_rate_100]\n",
    "x = [.25,.5,.75,1.0]"
   ]
  },
  {
   "cell_type": "code",
   "execution_count": 191,
   "metadata": {},
   "outputs": [
    {
     "data": {
      "image/png": "[encoded data removed]",
      "text/plain": [
       "<Figure size 720x432 with 1 Axes>"
      ]
     },
     "metadata": {},
     "output_type": "display_data"
    }
   ],
   "source": [
    "plt.figure(figsize=(10,6))\n",
    "d = {\"Percentage\":x,\"Hit Rate\":hit_rate}\n",
    "df = pd.DataFrame(d)\n",
    "\n",
    "sns.lineplot(data = df,x = 'Percentage',y = 'Hit Rate').set_title('Percentage vs Hit Rate')\n",
    "plt.show()"
   ]
  },
  {
   "cell_type": "markdown",
   "metadata": {},
   "source": [
    "## Coverage"
   ]
  },
  {
   "cell_type": "code",
   "execution_count": 166,
   "metadata": {},
   "outputs": [],
   "source": [
    "def coverage_cal(mu_matrix, dist, ind, data):\n",
    "    rec = opt_recommend(mu_matrix,dist,ind,data)\n",
    "    rec_unique = set()\n",
    "    \n",
    "    for item in rec:\n",
    "        rec_unique.add(item)\n",
    "    \n",
    "    return len(rec_unique)"
   ]
  },
  {
   "cell_type": "code",
   "execution_count": 169,
   "metadata": {},
   "outputs": [],
   "source": [
    "coverage = coverage_cal(matrix_100,dist_100, ind_100, sample_movie_rating)"
   ]
  },
  {
   "cell_type": "code",
   "execution_count": 171,
   "metadata": {},
   "outputs": [
    {
     "name": "stdout",
     "output_type": "stream",
     "text": [
      "Recommendation list covered 857 movies.\n"
     ]
    }
   ],
   "source": [
    "print(f'Recommendation list covered {coverage} movies.')"
   ]
  },
  {
   "cell_type": "code",
   "execution_count": null,
   "metadata": {},
   "outputs": [],
   "source": []
  }
 ],
 "metadata": {
  "kernelspec": {
   "display_name": "Python 3",
   "language": "python",
   "name": "python3"
  },
  "language_info": {
   "codemirror_mode": {
    "name": "ipython",
    "version": 3
   },
   "file_extension": ".py",
   "mimetype": "text/x-python",
   "name": "python",
   "nbconvert_exporter": "python",
   "pygments_lexer": "ipython3",
   "version": "3.7.4"
  }
 },
 "nbformat": 4,
 "nbformat_minor": 4
}
