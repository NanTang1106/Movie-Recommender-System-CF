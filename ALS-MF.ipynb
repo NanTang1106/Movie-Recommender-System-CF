{
 "cells": [
  {
   "cell_type": "code",
   "execution_count": 2,
   "metadata": {},
   "outputs": [],
   "source": [
    "import pandas as pd\n",
    "import numpy as np\n",
    "import pyspark as ps\n",
    "from scipy.sparse import csr_matrix\n",
    "from sklearn.neighbors import NearestNeighbors"
   ]
  },
  {
   "cell_type": "code",
   "execution_count": 3,
   "metadata": {},
   "outputs": [],
   "source": [
    "rating_dt = pd.read_csv('../data/ratings.csv')"
   ]
  },
  {
   "cell_type": "code",
   "execution_count": 4,
   "metadata": {},
   "outputs": [],
   "source": [
    "#tag_dt = pd.read_csv('tags.csv')"
   ]
  },
  {
   "cell_type": "code",
   "execution_count": 7,
   "metadata": {},
   "outputs": [],
   "source": [
    "#movie_dt = pd.read_csv('movies.csv')"
   ]
  },
  {
   "cell_type": "code",
   "execution_count": 17,
   "metadata": {},
   "outputs": [
    {
     "name": "stdout",
     "output_type": "stream",
     "text": [
      "   userId  movieId  rating   timestamp\n",
      "0       1      307     3.5  1256677221\n",
      "1       1      481     3.5  1256677456\n",
      "2       1     1091     1.5  1256677471\n",
      "3       1     1257     4.5  1256677460\n",
      "4       1     1449     4.5  1256677264\n"
     ]
    }
   ],
   "source": [
    "#print(tag_dt.head(5))\n",
    "print(rating_dt.head(5))\n",
    "#print(movie_dt.head(5))"
   ]
  },
  {
   "cell_type": "code",
   "execution_count": 3,
   "metadata": {},
   "outputs": [
    {
     "data": {
      "text/plain": [
       "(27753444, 4)"
      ]
     },
     "execution_count": 3,
     "metadata": {},
     "output_type": "execute_result"
    }
   ],
   "source": [
    "rating_dt.shape"
   ]
  },
  {
   "cell_type": "markdown",
   "metadata": {},
   "source": [
    "### Sample Data\n",
    "choose movies that have been rated for over 100 times"
   ]
  },
  {
   "cell_type": "code",
   "execution_count": 4,
   "metadata": {},
   "outputs": [],
   "source": [
    "# filter out movies that has less than 100 rates\n",
    "movie_rating_count = rating_dt.groupby(['movieId']).size().reset_index(name='Mcount')\n",
    "movie_poll = movie_rating_count[movie_rating_count.Mcount > 100].movieId"
   ]
  },
  {
   "cell_type": "code",
   "execution_count": 5,
   "metadata": {},
   "outputs": [],
   "source": [
    "# sample 1000 items from movie poll \n",
    "movie_sample = movie_poll.sample(1000, replace=False, random_state=1).values.reshape(-1, 1)\n",
    "\n",
    "# get rating and users of sampled movies\n",
    "sample_movie_rating = rating_dt.loc[rating_dt['movieId'].isin(movie_sample)]"
   ]
  },
  {
   "cell_type": "code",
   "execution_count": 6,
   "metadata": {},
   "outputs": [],
   "source": [
    "# sample 1000 users \n",
    "user_poll = np.unique(sample_movie_rating['userId'])\n",
    "np.random.seed(1)\n",
    "user_test = np.random.choice(user_poll, 1000)\n",
    "test_user_rating = sample_movie_rating.loc[sample_movie_rating['userId'].isin(user_test)]"
   ]
  },
  {
   "cell_type": "markdown",
   "metadata": {},
   "source": [
    "### KNN Collaborative Filtering"
   ]
  },
  {
   "cell_type": "code",
   "execution_count": 8,
   "metadata": {},
   "outputs": [],
   "source": [
    "# pivot movie, user, rating dataframe into compressed matrix\n",
    "#\n",
    "def movie_use_matrix_pivot(df_):\n",
    "    mu_matrix = df_.pivot(index = 'movieId', \n",
    "                          columns = 'userId', \n",
    "                          values = 'rating').fillna(0)\n",
    "    # compress original matrix\n",
    "    mu_matrix_cp = csr_matrix(mu_matrix.values)\n",
    "    return mu_matrix, mu_matrix_cp"
   ]
  },
  {
   "cell_type": "code",
   "execution_count": 9,
   "metadata": {},
   "outputs": [],
   "source": [
    "# input: compressed movie-user matrix, distance method, number of nearest neighbors\n",
    "# default distance method is adjusted cosine, default neighbor is 5\n",
    "# output: a pre-trained KNN model\n",
    "#\n",
    "def knn_model_fit(mu_matrix_cp, dist_='cosine', n_neighbor_=5):\n",
    "    # use adjusted cosine distance to find k nearest item \n",
    "    # default k-neighbor is 5\n",
    "    knn = NearestNeighbors(metric=dist_, algorithm='brute', n_neighbors=n_neighbor_, n_jobs=-1)\n",
    "    knn.fit(mu_matrix_cp)\n",
    "    return knn"
   ]
  },
  {
   "cell_type": "code",
   "execution_count": 10,
   "metadata": {},
   "outputs": [],
   "source": [
    "# input: a pre-trained KNN model (n_neighbor = 5), movie-user matrix, one movieid\n",
    "# output: a list of distance of nearest neighbors, a list of indices of nearest neighbors\n",
    "# to movie-user matrix\n",
    "#\n",
    "def single_recommendation(knn_model, mu_matrix, movieid):\n",
    "    movie_input = mu_matrix.loc[mu_matrix.index == movieid]\n",
    "    distance, indices = knn_model.kneighbors(movie_input)\n",
    "    return distance, indices   "
   ]
  },
  {
   "cell_type": "code",
   "execution_count": 13,
   "metadata": {},
   "outputs": [],
   "source": [
    "# test function\n",
    "sample_matrix, sample_matrix_cp = movie_use_matrix_pivot(test_user_rating)\n",
    "sample_matrix_knn = knn_model_fit(sample_matrix_cp, 'cosine', 5)\n",
    "\n",
    "distance1, indices1 = sample_matrix_knn.kneighbors(sample_matrix.loc[sample_matrix.index == 34])\n",
    "distance2, indices2 = single_recommendation(sample_matrix_knn, sample_matrix, 34)\n",
    "assert(np.alltrue(indices1 == indices2))"
   ]
  },
  {
   "cell_type": "code",
   "execution_count": 14,
   "metadata": {},
   "outputs": [],
   "source": [
    "# input: rating dataset, userid, a rating threshold, movies that are rated below threshold\n",
    "# will not be counted \n",
    "# output: a list of high-scored movies that are rated by givern user, a list of corresponding ratings\n",
    "#\n",
    "def get_rated_movies(data, userid, threshold=2):\n",
    "    all_rates = data[data['userId'] == userid]\n",
    "    high_rates = all_rates[all_rates['rating'] >= threshold]['rating'].values\n",
    "    high_rate_movie = all_rates[all_rates['rating'] >= threshold]['movieId'].values\n",
    "    return high_rate_movie, high_rates"
   ]
  },
  {
   "cell_type": "code",
   "execution_count": 15,
   "metadata": {},
   "outputs": [],
   "source": [
    "# input: pre-trained KNN model, movie-user matrix of historical data, \n",
    "# a list of movies that have been rated by given user, corresponding ratings\n",
    "# output: if number of rated movies < 5, return list of 5 * n recommendation\n",
    "# if number of rated movies > 5, return list of 20 recommendation base on rating itself\n",
    "# and 5 nearest neighbors\n",
    "#\n",
    "def mult_recommendation(knn_model, mu_matrix, ratedmovies, ratings):\n",
    "    indices_list = []\n",
    "    distance_list = []\n",
    "    recommend_list = []\n",
    "    \n",
    "    for count, i in enumerate(ratedmovies):\n",
    "        distance, indices = single_recommendation(knn_model, mu_matrix, i)\n",
    "        indices_list.extend(indices.reshape(-1))\n",
    "        # adjust distance by rating\n",
    "        distance_adj = (distance.reshape(-1) / ratings[count]).tolist()\n",
    "        # find corresponding movieid\n",
    "        movie_list = mu_matrix.index[indices.reshape(-1)].tolist()\n",
    "        # delete if same movieid exist in recommendation list\n",
    "        if movie_list[0] == i:\n",
    "            movie_list = movie_list[1:]\n",
    "            distance_adj = distance_adj[1:]\n",
    "\n",
    "        distance_list.extend(distance_adj)\n",
    "        recommend_list.extend(movie_list)\n",
    "    \n",
    "    recommend_list = np.array(recommend_list)\n",
    "    \n",
    "    if recommend_list.shape[0] <= 20:\n",
    "        return recommend_list\n",
    "    else:\n",
    "        sorted_recommend = recommend_list[np.array(distance_list).argsort()]\n",
    "        # choose top 20 recommendations\n",
    "        return sorted_recommend[:20]"
   ]
  },
  {
   "cell_type": "code",
   "execution_count": 16,
   "metadata": {},
   "outputs": [
    {
     "name": "stdout",
     "output_type": "stream",
     "text": [
      "[  47  301  309  431  509  920  934 1066 1089 1198 1293 1357 1358 1682\n",
      " 2324 3159 4011 4019 4973 5299 5445 7153]\n",
      "[4011   47 2542 6874 1198 2542 1222 5445 4011 4973 1387 1500 7153 1089\n",
      " 5445  515 1527 1387 1089 2302]\n",
      "recommendation list is of length 20\n"
     ]
    }
   ],
   "source": [
    "# test function (small dataset)\n",
    "movies, ratings = get_rated_movies(test_user_rating, 281940, 2)\n",
    "res = mult_recommendation(sample_matrix_knn, sample_matrix, movies, ratings)\n",
    "print(movies)\n",
    "print(res)\n",
    "print('recommendation list is of length', len(res))"
   ]
  },
  {
   "cell_type": "markdown",
   "metadata": {},
   "source": [
    "### Matrix Factorization Collaborative Filtering "
   ]
  },
  {
   "cell_type": "code",
   "execution_count": 8,
   "metadata": {},
   "outputs": [],
   "source": [
    "from pyspark.ml.evaluation import RegressionEvaluator, BinaryClassificationEvaluator\n",
    "from pyspark.ml.recommendation import ALS\n",
    "from pyspark.ml.tuning import TrainValidationSplit, ParamGridBuilder\n",
    "from pyspark.sql import SparkSession\n",
    "\n",
    "import seaborn as sns\n",
    "import matplotlib.pyplot as plt\n",
    "\n",
    "# initialize spark session\n",
    "spark = SparkSession.builder.appName('ieor-hw2').getOrCreate()"
   ]
  },
  {
   "cell_type": "code",
   "execution_count": 9,
   "metadata": {},
   "outputs": [],
   "source": [
    "# transform pandas df to spark df   --- long run time\n",
    "test_user_rating_spark = spark.createDataFrame(test_user_rating)\n",
    "sample_movie_rating_spark = spark.createDataFrame(sample_movie_rating)"
   ]
  },
  {
   "cell_type": "code",
   "execution_count": 10,
   "metadata": {},
   "outputs": [],
   "source": [
    "# Create ALS model\n",
    "als = ALS(\n",
    "         userCol=\"userId\", \n",
    "         itemCol=\"movieId\",\n",
    "         ratingCol=\"rating\", \n",
    "         nonnegative = True, \n",
    "         implicitPrefs = False,\n",
    "         coldStartStrategy=\"drop\"\n",
    ")"
   ]
  },
  {
   "cell_type": "markdown",
   "metadata": {},
   "source": [
    "### Cross Validation Setup\n",
    "5-fold CV on dataset of 1000 movies and 2.6 million ratings <br>\n",
    "use RMSE as scoring metric, and search for best 'rank'"
   ]
  },
  {
   "cell_type": "code",
   "execution_count": 12,
   "metadata": {},
   "outputs": [],
   "source": [
    "# train-test split on large dataset \n",
    "(train_big,test_big) = sample_movie_rating_spark.randomSplit([0.80, 0.20], seed=15)\n",
    "# train-test split on small sample data\n",
    "(train_small,test_small) = test_user_rating_spark.randomSplit([0.80, 0.20], seed=15)"
   ]
  },
  {
   "cell_type": "code",
   "execution_count": 174,
   "metadata": {},
   "outputs": [],
   "source": [
    "# setup grid search parameters \n",
    "# test value of hyperparameter 'rank' from 2, 4, 6, 8, 10, 12, 14\n",
    "para_grid = ParamGridBuilder() \\\n",
    "                .addGrid(als.rank, range(2, 15, 2))  \\\n",
    "                .build()\n",
    "\n",
    "# use rmse as scoring metric\n",
    "evaluator = RegressionEvaluator(metricName='rmse', \n",
    "                                labelCol='rating', \n",
    "                                predictionCol='prediction')\n",
    "\n",
    "# setup validation function \n",
    "tvs = TrainValidationSplit(estimator = als, \n",
    "                           estimatorParamMaps = para_grid, \n",
    "                           evaluator = evaluator, \n",
    "                           seed=1)"
   ]
  },
  {
   "cell_type": "code",
   "execution_count": 175,
   "metadata": {},
   "outputs": [],
   "source": [
    "# fit on big data set   --- long run time\n",
    "model = tvs.fit(train_big)"
   ]
  },
  {
   "cell_type": "code",
   "execution_count": 176,
   "metadata": {},
   "outputs": [
    {
     "data": {
      "text/plain": [
       "Text(0.5, 1.0, 'CV-curve of MF Rank')"
      ]
     },
     "execution_count": 176,
     "metadata": {},
     "output_type": "execute_result"
    },
    {
     "data": {
      "image/png": "[encoded data removed]",
      "text/plain": [
       "<Figure size 576x432 with 1 Axes>"
      ]
     },
     "metadata": {},
     "output_type": "display_data"
    }
   ],
   "source": [
    "# visualize performance on validation set for each value of rank\n",
    "ax, fig = plt.subplots(figsize=(8, 6))\n",
    "sns.set_style(\"whitegrid\")\n",
    "plt.plot(range(2, 15, 2), model.validationMetrics)\n",
    "plt.xlabel('Rank')\n",
    "plt.ylabel('CV-RMSE')\n",
    "plt.title('CV-curve of MF Rank')"
   ]
  },
  {
   "cell_type": "code",
   "execution_count": 13,
   "metadata": {},
   "outputs": [],
   "source": [
    "# uncomment to save model for future use\n",
    "## best.save('als_model')\n",
    "\n",
    "# uncomment to train from data with best hyperparameters \n",
    "## als_2 = als.setRank(4)\n",
    "## best = als_2.fit(train_big)"
   ]
  },
  {
   "cell_type": "code",
   "execution_count": 308,
   "metadata": {},
   "outputs": [
    {
     "name": "stdout",
     "output_type": "stream",
     "text": [
      "RMSE: 0.7658987305990971\n",
      "***BestModel***\n",
      "  rank: 4\n",
      "  MaxIter: 10\n",
      "  RegParam: 0.1\n"
     ]
    }
   ],
   "source": [
    "# best model has rank 4, iteration 10 (default), regularization parameter 0.1 (default)\n",
    "best = model.bestModel\n",
    "\n",
    "predictions = best.transform(test_small)\n",
    "rmse = evaluator.evaluate(predictions)\n",
    "\n",
    "print(\"RMSE: \" + str(rmse))\n",
    "print(\"***BestModel***\")\n",
    "print(\"  rank: \" + str(best.rank))\n",
    "print(\"  MaxIter: \" + str(best._java_obj.parent().getMaxIter()))\n",
    "print(\"  RegParam: \" + str(best._java_obj.parent().getRegParam()))"
   ]
  },
  {
   "cell_type": "markdown",
   "metadata": {},
   "source": [
    "### MF Model RMSE on Test and Train 100% Dataset"
   ]
  },
  {
   "cell_type": "code",
   "execution_count": 71,
   "metadata": {},
   "outputs": [],
   "source": [
    "test_pred = best.transform(test_big)\n",
    "test_rmse = evaluator.evaluate(test_pred)"
   ]
  },
  {
   "cell_type": "code",
   "execution_count": 24,
   "metadata": {},
   "outputs": [],
   "source": [
    "train_pred = best.transform(train_big)\n",
    "train_rmse = evaluator.evaluate(train_pred)"
   ]
  },
  {
   "cell_type": "code",
   "execution_count": 72,
   "metadata": {},
   "outputs": [
    {
     "name": "stdout",
     "output_type": "stream",
     "text": [
      "Test RMSE: 0.9115554536168751\n",
      "Train RMSE: 0.7048404634761517\n"
     ]
    }
   ],
   "source": [
    "print(\"Test RMSE: \" + str(test_rmse))\n",
    "print(\"Train RMSE: \" + str(train_rmse))"
   ]
  },
  {
   "cell_type": "markdown",
   "metadata": {},
   "source": [
    "### Matrix Factorization Recommender Funtion"
   ]
  },
  {
   "cell_type": "code",
   "execution_count": 16,
   "metadata": {},
   "outputs": [],
   "source": [
    "# input: a pre-trained mf model, rating data (spark df), number of recommendations for each user\n",
    "# output: a dict of recommendations sorted descending by predicted rating, key by userid\n",
    "#\n",
    "def MF_recommendation(mf_model, data, rec_number=20):\n",
    "    predictions = mf_model.transform(data)\n",
    "    user_recommendation = mf_model.recommendForUserSubset(data, rec_number).toPandas()\n",
    "    rec_dict = {}\n",
    "    \n",
    "    for i in range(0, user_recommendation.shape[0]):\n",
    "        userid = user_recommendation.iloc[i, 0]\n",
    "        movieid = [item[0] for item in user_recommendation.iloc[i, 1]]\n",
    "        rec_dict[userid] = movieid\n",
    "    \n",
    "    return rec_dict"
   ]
  },
  {
   "cell_type": "code",
   "execution_count": 31,
   "metadata": {},
   "outputs": [],
   "source": [
    "# test function (sample dataset)\n",
    "rec = MF_recommendation(best, test_small)"
   ]
  },
  {
   "cell_type": "code",
   "execution_count": 43,
   "metadata": {},
   "outputs": [],
   "source": [
    "# iterate through dictionary\n",
    "# for purpose of display recommendation\n",
    "from itertools import islice\n",
    "\n",
    "def take(n, iterable):\n",
    "    \"Return first n items of the iterable as a list\"\n",
    "    return list(islice(iterable, n))"
   ]
  },
  {
   "cell_type": "code",
   "execution_count": 52,
   "metadata": {},
   "outputs": [
    {
     "name": "stdout",
     "output_type": "stream",
     "text": [
      "userId: 231287\n",
      "recommend movies: [5224, 7153, 4973, 771, 86504, 5772, 800, 72104, 50742, 2324, 1357, 515, 171011, 3920, 58425, 1293, 103867, 1295, 1358, 72226]\n",
      "userId: 243392\n",
      "recommend movies: [171011, 159819, 1198, 167832, 47, 121374, 119153, 48516, 112556, 147330, 65133, 73681, 55721, 96488, 4011, 6808, 116411, 86504, 2324, 89492]\n",
      "userId: 37482\n",
      "recommend movies: [171011, 159819, 5224, 4973, 86504, 50742, 147330, 58425, 2324, 1212, 720, 750, 3134, 800, 951, 26903, 177765, 1293, 1284, 7153]\n",
      "userId: 115225\n",
      "recommend movies: [2324, 191351, 93265, 51471, 177765, 167832, 54001, 6970, 106441, 86504, 170697, 87308, 94503, 134374, 91844, 116855, 106696, 89554, 117176, 103867]\n",
      "userId: 162241\n",
      "recommend movies: [7153, 171011, 4011, 2542, 91529, 121374, 86504, 47, 106873, 48516, 2324, 1080, 1089, 70286, 3949, 171253, 159819, 4973, 119153, 1357]\n"
     ]
    }
   ],
   "source": [
    "first_5 = take(5, rec.items())\n",
    "first_5\n",
    "for pair in first_5:\n",
    "    print(f'userId: {pair[0]}')\n",
    "    print(f'recommend movies: {pair[1]}')"
   ]
  },
  {
   "cell_type": "markdown",
   "metadata": {},
   "source": [
    "### Precision, Recall, Coverage Functions"
   ]
  },
  {
   "cell_type": "code",
   "execution_count": 53,
   "metadata": {},
   "outputs": [],
   "source": [
    "# input: rating data (spark df), split point (default 2)\n",
    "# rating 5, 4, 3 will be considered as positive (as default)\n",
    "# rating 1, 2 will be considered as negative (as default)\n",
    "# output: dict of positively rated movie key by user, dict of negative rated movie key by user\n",
    "#\n",
    "def positive_negative_split(spdf, threshold=2):\n",
    "    user_rate_df = spdf.toPandas()\n",
    "    pos_dict = {}\n",
    "    neg_dict = {}\n",
    "    \n",
    "    for user in np.unique(user_rate_df.userId):\n",
    "        all_rates = user_rate_df[user_rate_df['userId'] == user]\n",
    "        positive_rates = all_rates[all_rates['rating'] > threshold]['movieId'].tolist()\n",
    "        negative_rates = all_rates[all_rates['rating'] <= threshold]['movieId'].tolist()\n",
    "        pos_dict[user] = positive_rates\n",
    "        neg_dict[user] = negative_rates\n",
    "        \n",
    "    return pos_dict, neg_dict"
   ]
  },
  {
   "cell_type": "code",
   "execution_count": 21,
   "metadata": {},
   "outputs": [],
   "source": [
    "# test function \n",
    "pos, neg = positive_negative_split(test_big)"
   ]
  },
  {
   "cell_type": "code",
   "execution_count": 19,
   "metadata": {},
   "outputs": [],
   "source": [
    "# input: pre-trained MF model, new rating data (spark df), split point (default 2)\n",
    "# predicted rating > 2.5 will be predicted as positive \n",
    "# predicted rating < 2.5 will be predicted as negative \n",
    "# output: recall and precision of pre-trained MF model on given data set\n",
    "#\n",
    "def precision_recall_cal(mf_model, data, threshold=2):\n",
    "    pos, neg = positive_negative_split(data, threshold)\n",
    "    predictions = mf_model.transform(data).toPandas()\n",
    "    tp = 0\n",
    "    fp = 0\n",
    "    p_total = 0\n",
    "    \n",
    "    for user in pos:\n",
    "        for rated in pos[user]:\n",
    "            pred = predictions.loc[(predictions.userId == user) & (predictions.movieId == rated),\n",
    "                                   'prediction'].tolist()\n",
    "            if pred:\n",
    "                p_total += 1\n",
    "                if pred[0] >= threshold + 0.5:\n",
    "                    tp += 1\n",
    "    \n",
    "    for user in neg:\n",
    "        for rated in neg[user]:\n",
    "            pred = predictions.loc[(predictions.userId == user) & (predictions.movieId == rated), \n",
    "                                   'prediction'].tolist()\n",
    "            if pred:\n",
    "                if pred[0] >= threshold + 0.5:\n",
    "                    fp += 1\n",
    "    \n",
    "    recall = tp / p_total\n",
    "    precision = tp / (tp + fp)\n",
    "    \n",
    "    return recall, precision"
   ]
  },
  {
   "cell_type": "code",
   "execution_count": 56,
   "metadata": {},
   "outputs": [
    {
     "data": {
      "text/plain": [
       "(0.9635523613963038, 0.9310515873015873)"
      ]
     },
     "execution_count": 56,
     "metadata": {},
     "output_type": "execute_result"
    }
   ],
   "source": [
    "# test function (sample dataset)\n",
    "precision_recall_cal(best, test_small, 2)"
   ]
  },
  {
   "cell_type": "code",
   "execution_count": 58,
   "metadata": {},
   "outputs": [],
   "source": [
    "#train_recall, train_prec = precision_recall_cal(best, train_big, 2)  --- long run time\n",
    "test_recall, test_prec = precision_recall_cal(best, test_big, 2)"
   ]
  },
  {
   "cell_type": "code",
   "execution_count": 59,
   "metadata": {},
   "outputs": [
    {
     "name": "stdout",
     "output_type": "stream",
     "text": [
      "Recall on testing set: 0.9396966422365336\n",
      "Precision on testing set: 0.9148965505538375\n"
     ]
    }
   ],
   "source": [
    "#print(f'Recall on training set: {train_recall}')\n",
    "#print(f'Precision on training set: {train_prec}')\n",
    "print(f'Recall on testing set: {test_recall}')\n",
    "print(f'Precision on testing set: {test_prec}')"
   ]
  },
  {
   "cell_type": "code",
   "execution_count": 14,
   "metadata": {},
   "outputs": [],
   "source": [
    "# calculate number of covered recommendations\n",
    "def coverage_cal(mf_model, data, rec_number = 20):\n",
    "    rec_dic = MF_recommendation(mf_model, data, rec_number)\n",
    "    rec_values = rec_dic.values()\n",
    "    rec_unique = set()\n",
    "    \n",
    "    for item in rec_values:\n",
    "        rec_unique.update(item)\n",
    "    \n",
    "    return len(rec_unique)"
   ]
  },
  {
   "cell_type": "code",
   "execution_count": 20,
   "metadata": {},
   "outputs": [
    {
     "name": "stdout",
     "output_type": "stream",
     "text": [
      "Recommendation list covered 308\n"
     ]
    }
   ],
   "source": [
    "# calculate coverage on big data set   --- long run time\n",
    "train_cover = coverage_cal(best, train_big)\n",
    "print(f'Recommendation list covered {train_cover}')"
   ]
  },
  {
   "cell_type": "markdown",
   "metadata": {},
   "source": [
    "### Model Evaluation on Different Size of Data"
   ]
  },
  {
   "cell_type": "code",
   "execution_count": 60,
   "metadata": {},
   "outputs": [],
   "source": [
    "# random select 25%, 50%, 75% from big dataset \n",
    "movie_ratings_25 = sample_movie_rating.sample(frac = .25, random_state = 1)\n",
    "movie_ratings_50 = sample_movie_rating.sample(frac = .50, random_state = 2)\n",
    "movie_ratings_75 = sample_movie_rating.sample(frac = .75, random_state = 3)"
   ]
  },
  {
   "cell_type": "code",
   "execution_count": 63,
   "metadata": {},
   "outputs": [],
   "source": [
    "# convert to spark-df  --- long run time\n",
    "movie_rating_25_sp = spark.createDataFrame(movie_ratings_25)\n",
    "movie_rating_50_sp = spark.createDataFrame(movie_ratings_50)\n",
    "movie_rating_75_sp = spark.createDataFrame(movie_ratings_75)\n",
    "\n",
    "# train-test split \n",
    "(train_25,test_25) = movie_rating_25_sp.randomSplit([0.80, 0.20], seed=1)\n",
    "(train_50,test_50) = movie_rating_50_sp.randomSplit([0.80, 0.20], seed=1)\n",
    "(train_75,test_75) = movie_rating_75_sp.randomSplit([0.80, 0.20], seed=1)"
   ]
  },
  {
   "cell_type": "code",
   "execution_count": 66,
   "metadata": {},
   "outputs": [],
   "source": [
    "als_2 = als.setRank(4)"
   ]
  },
  {
   "cell_type": "code",
   "execution_count": 65,
   "metadata": {},
   "outputs": [],
   "source": [
    "# fit mf model on 75% data, rank = 4\n",
    "model_75 = als_2.fit(train_75)\n",
    "model_50 = als_2.fit(train_50)\n",
    "model_25 = als_2.fit(train_25)"
   ]
  },
  {
   "cell_type": "code",
   "execution_count": 68,
   "metadata": {},
   "outputs": [],
   "source": [
    "# calculate rmse on both testing and training \n",
    "pred_75_train = model_75.transform(train_75)\n",
    "pred_75_test = model_75.transform(test_75)\n",
    "eva_75_train = evaluator.evaluate(pred_75_train)\n",
    "eva_75_test = evaluator.evaluate(pred_75_test)\n",
    "\n",
    "pred_50_train = model_50.transform(train_50)\n",
    "pred_50_test = model_50.transform(test_50)\n",
    "eva_50_train = evaluator.evaluate(pred_50_train)\n",
    "eva_50_test = evaluator.evaluate(pred_50_test)\n",
    "\n",
    "pred_25_train = model_50.transform(train_25)\n",
    "pred_25_test = model_50.transform(test_25)\n",
    "eva_25_train = evaluator.evaluate(pred_25_train)\n",
    "eva_25_test = evaluator.evaluate(pred_25_test)"
   ]
  },
  {
   "cell_type": "code",
   "execution_count": 73,
   "metadata": {},
   "outputs": [],
   "source": [
    "size_rmse_test = [eva_25_test, eva_50_test, eva_75_test, test_rmse]\n",
    "size_rmse_train = [eva_25_train, eva_50_train, eva_75_train, train_rmse]"
   ]
  },
  {
   "cell_type": "code",
   "execution_count": 75,
   "metadata": {},
   "outputs": [],
   "source": [
    "# calculate precision and racall on testing  --- long run time\n",
    "test_25_recall, test_25_prec = precision_recall_cal(model_25, test_25, 2)\n",
    "test_50_racall, test_50_prec = precision_recall_cal(model_50, test_25, 2)\n",
    "test_75_recall, test_75_prec = precision_recall_cal(model_75, test_75, 2)"
   ]
  },
  {
   "cell_type": "code",
   "execution_count": 76,
   "metadata": {},
   "outputs": [],
   "source": [
    "size_prec_test = [test_25_prec, test_50_prec, test_75_prec, test_prec]\n",
    "size_recall_test = [test_25_recall, test_50_racall, test_75_recall, test_recall]"
   ]
  },
  {
   "cell_type": "code",
   "execution_count": 117,
   "metadata": {},
   "outputs": [],
   "source": [
    "size_df = pd.DataFrame(size_rmse_test, index=['25%', '50%', '75%', '100%'], columns=['rmse_test'])\n",
    "size_df['rmse_train'] = size_rmse_train\n",
    "size_df['prec_test'] = size_prec_test\n",
    "size_df['recall_test'] = size_recall_test"
   ]
  },
  {
   "cell_type": "code",
   "execution_count": 184,
   "metadata": {},
   "outputs": [
    {
     "data": {
      "text/plain": [
       "Text(0.5, 1.0, 'Recall on Testing')"
      ]
     },
     "execution_count": 184,
     "metadata": {},
     "output_type": "execute_result"
    },
    {
     "data": {
      "image/png": "[encoded data removed]",
      "text/plain": [
       "<Figure size 864x576 with 4 Axes>"
      ]
     },
     "metadata": {},
     "output_type": "display_data"
    }
   ],
   "source": [
    "# visualize model evaluation on different size\n",
    "fig, axes = plt.subplots(2, 2, figsize=(12, 8))\n",
    "sns.lineplot(data=size_df.rmse_train, ax=axes[0, 0])\n",
    "sns.lineplot(data=size_df.rmse_test, ax=axes[0, 1])\n",
    "sns.lineplot(data=size_df.prec_test, ax=axes[1, 0])\n",
    "sns.lineplot(data=size_df.recall_test, ax=axes[1, 1])\n",
    "\n",
    "axes[0, 1].set_ylim([0.6, 1])\n",
    "axes[0, 0].set_ylim([0.6, 1])\n",
    "axes[1, 0].set_ylim([0.9, 1])\n",
    "axes[1, 1].set_ylim([0.9, 1])\n",
    "\n",
    "axes[0, 0].set_title('RMSE on Testing')\n",
    "axes[0, 1].set_title('RMSE on Training')\n",
    "axes[1, 0].set_title('Precision on Testing')\n",
    "axes[1, 1].set_title('Recall on Testing')"
   ]
  },
  {
   "cell_type": "code",
   "execution_count": null,
   "metadata": {},
   "outputs": [],
   "source": []
  }
 ],
 "metadata": {
  "kernelspec": {
   "display_name": "Python 3",
   "language": "python",
   "name": "python3"
  },
  "language_info": {
   "codemirror_mode": {
    "name": "ipython",
    "version": 3
   },
   "file_extension": ".py",
   "mimetype": "text/x-python",
   "name": "python",
   "nbconvert_exporter": "python",
   "pygments_lexer": "ipython3",
   "version": "3.8.3"
  }
 },
 "nbformat": 4,
 "nbformat_minor": 4
}
